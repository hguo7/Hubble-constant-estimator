{
 "cells": [
  {
   "cell_type": "code",
   "execution_count": 1,
   "metadata": {},
   "outputs": [],
   "source": [
    "import numpy as np \n",
    "import math \n",
    "ln10=np.log(10) \n",
    "e=math.e"
   ]
  },
  {
   "cell_type": "code",
   "execution_count": 2,
   "metadata": {
    "scrolled": true
   },
   "outputs": [],
   "source": [
    "mwceph=np.genfromtxt('datamw_cep2.txt')\n",
    "m=mwceph[:,5]+0.0075-10+5*np.log(mwceph[:,10])/(ln10)"
   ]
  },
  {
   "cell_type": "code",
   "execution_count": 3,
   "metadata": {},
   "outputs": [],
   "source": [
    "hostceph=np.genfromtxt('r16 table4.txt')\n",
    "m2=hostceph[:,2]"
   ]
  },
  {
   "cell_type": "code",
   "execution_count": 4,
   "metadata": {},
   "outputs": [],
   "source": [
    "lmcceph=np.genfromtxt('r19 table2.txt')\n",
    "m3=lmcceph[:,5]+0.03"
   ]
  },
  {
   "cell_type": "code",
   "execution_count": 5,
   "metadata": {},
   "outputs": [],
   "source": [
    "miu=np.array( [29.397,18.477])"
   ]
  },
  {
   "cell_type": "code",
   "execution_count": 6,
   "metadata": {},
   "outputs": [],
   "source": [
    "sn=np.genfromtxt('r16 table5.txt')\n",
    "mb=sn[:,2]+sn[:,4]"
   ]
  },
  {
   "cell_type": "code",
   "execution_count": 7,
   "metadata": {},
   "outputs": [
    {
     "name": "stdout",
     "output_type": "stream",
     "text": [
      "1651\n"
     ]
    }
   ],
   "source": [
    "Y=np.hstack((m,m2,m3,miu,mb))\n",
    "print(Y.size)"
   ]
  },
  {
   "cell_type": "code",
   "execution_count": 8,
   "metadata": {
    "scrolled": true
   },
   "outputs": [],
   "source": [
    "a=np.zeros(51)\n",
    "for i in range(74):\n",
    "    if mwceph[i,0]<1:\n",
    "        a1=np.array([0,mwceph[i,1]-mwceph[i,3],0,0,0,0,0,0,0,0,0,0,0,0,0,0,0,0,0,0,0,0,0,0,0,0,0,0,0,0,0,0,0,0,0,0,0,0,0,0,0,0,0,0,0,1,mwceph[i,0]-1,0,mwceph[i,9],-5/mwceph[i,10]/ln10,0])\n",
    "    elif hostceph[i,0]>1:\n",
    "        a1=np.array([0,mwceph[i,1]-mwceph[i,3],0,0,0,0,0,0,0,0,0,0,0,0,0,0,0,0,0,0,0,0,0,0,0,0,0,0,0,0,0,0,0,0,0,0,0,0,0,0,0,0,0,0,0,1,0,mwceph[i,0]-1,mwceph[i,9],-5/mwceph[i,10]/ln10,0])\n",
    "    i+=1\n",
    "    a=np.vstack((a,a1))\n",
    "a=np.delete(a,0,axis=0)\n"
   ]
  },
  {
   "cell_type": "code",
   "execution_count": 9,
   "metadata": {},
   "outputs": [],
   "source": [
    "\n",
    "for i in range(251):\n",
    "    if hostceph[i,0]<10:\n",
    "        a1=np.array([0,0,hostceph[i,1],0,0,0,0,0,0,0,0,0,0,0,0,0,0,0,0,0,0,0,0,1,0,0,0,0,0,0,0,0,0,0,0,0,0,0,0,0,0,0,0,0,0,1,math.log(hostceph[i,0],10)-1,0,hostceph[i,4]-8.824,0,0])\n",
    "    elif hostceph[i,0]>10:\n",
    "        a1=np.array([0,0,hostceph[i,1],0,0,0,0,0,0,0,0,0,0,0,0,0,0,0,0,0,0,0,0,1,0,0,0,0,0,0,0,0,0,0,0,0,0,0,0,0,0,0,0,0,0,1,0,math.log(hostceph[i,0],10)-1,hostceph[i,4]-8.824,0,0])\n",
    "    i+=1\n",
    "    a=np.vstack((a,a1))"
   ]
  },
  {
   "cell_type": "code",
   "execution_count": 10,
   "metadata": {},
   "outputs": [],
   "source": [
    "for i in range(251,265):\n",
    "    if hostceph[i,0]<10:\n",
    "        a1=np.array([0,0,0,hostceph[i,1],0,0,0,0,0,0,0,0,0,0,0,0,0,0,0,0,0,0,0,0,1,0,0,0,0,0,0,0,0,0,0,0,0,0,0,0,0,0,0,0,0,1,math.log(hostceph[i,0],10)-1,0,hostceph[i,4]-8.824,0,0])\n",
    "    elif hostceph[i,0]>10:\n",
    "        a1=np.array([0,0,0,hostceph[i,1],0,0,0,0,0,0,0,0,0,0,0,0,0,0,0,0,0,0,0,0,1,0,0,0,0,0,0,0,0,0,0,0,0,0,0,0,0,0,0,0,0,1,0,math.log(hostceph[i,0],10)-1,hostceph[i,4]-8.824,0,0])\n",
    "    i+=1\n",
    "    a=np.vstack((a,a1))\n"
   ]
  },
  {
   "cell_type": "code",
   "execution_count": 11,
   "metadata": {},
   "outputs": [],
   "source": [
    "for i in range(265,309):\n",
    "    if hostceph[i,0]<10:\n",
    "        a1=np.array([0,0,0,0,hostceph[i,1],0,0,0,0,0,0,0,0,0,0,0,0,0,0,0,0,0,0,0,0,1,0,0,0,0,0,0,0,0,0,0,0,0,0,0,0,0,0,0,0,1,math.log(hostceph[i,0],10)-1,0,hostceph[i,4]-8.824,0,0])\n",
    "    elif hostceph[i,0]>10:\n",
    "        a1=np.array([0,0,0,0,hostceph[i,1],0,0,0,0,0,0,0,0,0,0,0,0,0,0,0,0,0,0,0,0,1,0,0,0,0,0,0,0,0,0,0,0,0,0,0,0,0,0,0,0,1,0,math.log(hostceph[i,0],10)-1,hostceph[i,4]-8.824,0,0])\n",
    "    i+=1\n",
    "    a=np.vstack((a,a1))\n"
   ]
  },
  {
   "cell_type": "code",
   "execution_count": 12,
   "metadata": {},
   "outputs": [],
   "source": [
    "for i in range(309,341):\n",
    "    if hostceph[i,0]<10:\n",
    "        a1=np.array([0,0,0,0,0,hostceph[i,1],0,0,0,0,0,0,0,0,0,0,0,0,0,0,0,0,0,0,0,0,1,0,0,0,0,0,0,0,0,0,0,0,0,0,0,0,0,0,0,1,math.log(hostceph[i,0],10)-1,0,hostceph[i,4]-8.824,0,0])\n",
    "    elif hostceph[i,0]>10:\n",
    "        a1=np.array([0,0,0,0,0,hostceph[i,1],0,0,0,0,0,0,0,0,0,0,0,0,0,0,0,0,0,0,0,0,1,0,0,0,0,0,0,0,0,0,0,0,0,0,0,0,0,0,0,1,0,math.log(hostceph[i,0],10)-1,hostceph[i,4]-8.824,0,0])\n",
    "    i+=1\n",
    "    a=np.vstack((a,a1))\n"
   ]
  },
  {
   "cell_type": "code",
   "execution_count": 13,
   "metadata": {},
   "outputs": [],
   "source": [
    "for i in range(341,395):\n",
    "    if hostceph[i,0]<10:\n",
    "        a1=np.array([0,0,0,0,0,0,hostceph[i,1],0,0,0,0,0,0,0,0,0,0,0,0,0,0,0,0,0,0,0,0,1,0,0,0,0,0,0,0,0,0,0,0,0,0,0,0,0,0,1,math.log(hostceph[i,0],10)-1,0,hostceph[i,4]-8.824,0,0])\n",
    "    elif hostceph[i,0]>10:\n",
    "        a1=np.array([0,0,0,0,0,0,hostceph[i,1],0,0,0,0,0,0,0,0,0,0,0,0,0,0,0,0,0,0,0,0,1,0,0,0,0,0,0,0,0,0,0,0,0,0,0,0,0,0,1,0,math.log(hostceph[i,0],10)-1,hostceph[i,4]-8.824,0,0])\n",
    "    i+=1\n",
    "    a=np.vstack((a,a1))\n"
   ]
  },
  {
   "cell_type": "code",
   "execution_count": 14,
   "metadata": {},
   "outputs": [],
   "source": [
    "for i in range(395,536):\n",
    "    if hostceph[i,0]<10:\n",
    "        a1=np.array([0,0,0,0,0,0,0,hostceph[i,1],0,0,0,0,0,0,0,0,0,0,0,0,0,0,0,0,0,0,0,0,1,0,0,0,0,0,0,0,0,0,0,0,0,0,0,0,0,1,math.log(hostceph[i,0],10)-1,0,hostceph[i,4]-8.824,0,0])\n",
    "    elif hostceph[i,0]>10:\n",
    "        a1=np.array([0,0,0,0,0,0,0,hostceph[i,1],0,0,0,0,0,0,0,0,0,0,0,0,0,0,0,0,0,0,0,0,1,0,0,0,0,0,0,0,0,0,0,0,0,0,0,0,0,1,0,math.log(hostceph[i,0],10)-1,hostceph[i,4]-8.824,0,0])\n",
    "    i+=1\n",
    "    a=np.vstack((a,a1))\n"
   ]
  },
  {
   "cell_type": "code",
   "execution_count": 15,
   "metadata": {},
   "outputs": [],
   "source": [
    "for i in range(536,554):\n",
    "    if hostceph[i,0]<10:\n",
    "        a1=np.array([0,0,0,0,0,0,0,0,hostceph[i,1],0,0,0,0,0,0,0,0,0,0,0,0,0,0,0,0,0,0,0,0,1,0,0,0,0,0,0,0,0,0,0,0,0,0,0,0,1,math.log(hostceph[i,0],10)-1,0,hostceph[i,4]-8.824,0,0])\n",
    "    elif hostceph[i,0]>10:\n",
    "        a1=np.array([0,0,0,0,0,0,0,0,hostceph[i,1],0,0,0,0,0,0,0,0,0,0,0,0,0,0,0,0,0,0,0,0,1,0,0,0,0,0,0,0,0,0,0,0,0,0,0,0,1,0,math.log(hostceph[i,0],10)-1,hostceph[i,4]-8.824,0,0])\n",
    "    i+=1\n",
    "    a=np.vstack((a,a1))\n"
   ]
  },
  {
   "cell_type": "code",
   "execution_count": 16,
   "metadata": {},
   "outputs": [],
   "source": [
    "for i in range(554,617):\n",
    "    if hostceph[i,0]<10:\n",
    "        a1=np.array([0,0,0,0,0,0,0,0,0,hostceph[i,1],0,0,0,0,0,0,0,0,0,0,0,0,0,0,0,0,0,0,0,0,1,0,0,0,0,0,0,0,0,0,0,0,0,0,0,1,math.log(hostceph[i,0],10)-1,0,hostceph[i,4]-8.824,0,0])\n",
    "    elif hostceph[i,0]>10:\n",
    "        a1=np.array([0,0,0,0,0,0,0,0,0,hostceph[i,1],0,0,0,0,0,0,0,0,0,0,0,0,0,0,0,0,0,0,0,0,1,0,0,0,0,0,0,0,0,0,0,0,0,0,0,1,0,math.log(hostceph[i,0],10)-1,hostceph[i,4]-8.824,0,0])\n",
    "    i+=1\n",
    "    a=np.vstack((a,a1))\n"
   ]
  },
  {
   "cell_type": "code",
   "execution_count": 17,
   "metadata": {},
   "outputs": [],
   "source": [
    "for i in range(617,697):\n",
    "    if hostceph[i,0]<10:\n",
    "        a1=np.array([0,0,0,0,0,0,0,0,0,0,hostceph[i,1],0,0,0,0,0,0,0,0,0,0,0,0,0,0,0,0,0,0,0,0,1,0,0,0,0,0,0,0,0,0,0,0,0,0,1,math.log(hostceph[i,0],10)-1,0,hostceph[i,4]-8.824,0,0])\n",
    "    elif hostceph[i,0]>10:\n",
    "        a1=np.array([0,0,0,0,0,0,0,0,0,0,hostceph[i,1],0,0,0,0,0,0,0,0,0,0,0,0,0,0,0,0,0,0,0,0,1,0,0,0,0,0,0,0,0,0,0,0,0,0,1,0,math.log(hostceph[i,0],10)-1,hostceph[i,4]-8.824,0,0])\n",
    "    i+=1\n",
    "    a=np.vstack((a,a1))\n"
   ]
  },
  {
   "cell_type": "code",
   "execution_count": 18,
   "metadata": {},
   "outputs": [],
   "source": [
    "for i in range(697,739):\n",
    "    if hostceph[i,0]<10:\n",
    "        a1=np.array([0,0,0,0,0,0,0,0,0,0,0,hostceph[i,1],0,0,0,0,0,0,0,0,0,0,0,0,0,0,0,0,0,0,0,0,1,0,0,0,0,0,0,0,0,0,0,0,0,1,math.log(hostceph[i,0],10)-1,0,hostceph[i,4]-8.824,0,0])\n",
    "    elif hostceph[i,0]>10:\n",
    "        a1=np.array([0,0,0,0,0,0,0,0,0,0,0,hostceph[i,1],0,0,0,0,0,0,0,0,0,0,0,0,0,0,0,0,0,0,0,0,1,0,0,0,0,0,0,0,0,0,0,0,0,1,0,math.log(hostceph[i,0],10)-1,hostceph[i,4]-8.824,0,0])\n",
    "    i+=1\n",
    "    a=np.vstack((a,a1))\n"
   ]
  },
  {
   "cell_type": "code",
   "execution_count": 19,
   "metadata": {},
   "outputs": [],
   "source": [
    "for i in range(739,755):\n",
    "    if hostceph[i,0]<10:\n",
    "        a1=np.array([0,0,0,0,0,0,0,0,0,0,0,0,hostceph[i,1],0,0,0,0,0,0,0,0,0,0,0,0,0,0,0,0,0,0,0,0,1,0,0,0,0,0,0,0,0,0,0,0,1,math.log(hostceph[i,0],10)-1,0,hostceph[i,4]-8.824,0,0])\n",
    "    elif hostceph[i,0]>10:\n",
    "        a1=np.array([0,0,0,0,0,0,0,0,0,0,0,0,hostceph[i,1],0,0,0,0,0,0,0,0,0,0,0,0,0,0,0,0,0,0,0,0,1,0,0,0,0,0,0,0,0,0,0,0,1,0,math.log(hostceph[i,0],10)-1,hostceph[i,4]-8.824,0,0])\n",
    "    i+=1\n",
    "    a=np.vstack((a,a1))\n"
   ]
  },
  {
   "cell_type": "code",
   "execution_count": 20,
   "metadata": {},
   "outputs": [],
   "source": [
    "for i in range(755,768):\n",
    "    if hostceph[i,0]<10:\n",
    "        a1=np.array([0,0,0,0,0,0,0,0,0,0,0,0,0,hostceph[i,1],0,0,0,0,0,0,0,0,0,0,0,0,0,0,0,0,0,0,0,0,1,0,0,0,0,0,0,0,0,0,0,1,math.log(hostceph[i,0],10)-1,0,hostceph[i,4]-8.824,0,0])\n",
    "    elif hostceph[i,0]>10:\n",
    "        a1=np.array([0,0,0,0,0,0,0,0,0,0,0,0,0,hostceph[i,1],0,0,0,0,0,0,0,0,0,0,0,0,0,0,0,0,0,0,0,0,1,0,0,0,0,0,0,0,0,0,0,1,0,math.log(hostceph[i,0],10)-1,hostceph[i,4]-8.824,0,0])\n",
    "    i+=1\n",
    "    a=np.vstack((a,a1))\n"
   ]
  },
  {
   "cell_type": "code",
   "execution_count": 21,
   "metadata": {},
   "outputs": [],
   "source": [
    "for i in range(768,771):\n",
    "    if hostceph[i,0]<10:\n",
    "        a1=np.array([0,0,0,0,0,0,0,0,0,0,0,0,0,0,hostceph[i,1],0,0,0,0,0,0,0,0,0,0,0,0,0,0,0,0,0,0,0,0,1,0,0,0,0,0,0,0,0,0,1,math.log(hostceph[i,0],10)-1,0,hostceph[i,4]-8.824,0,0])\n",
    "    elif hostceph[i,0]>10:\n",
    "        a1=np.array([0,0,0,0,0,0,0,0,0,0,0,0,0,0,hostceph[i,1],0,0,0,0,0,0,0,0,0,0,0,0,0,0,0,0,0,0,0,0,1,0,0,0,0,0,0,0,0,0,1,0,math.log(hostceph[i,0],10)-1,hostceph[i,4]-8.824,0,0])\n",
    "    i+=1\n",
    "    a=np.vstack((a,a1))\n"
   ]
  },
  {
   "cell_type": "code",
   "execution_count": 22,
   "metadata": {},
   "outputs": [],
   "source": [
    "for i in range(771,804):\n",
    "    if hostceph[i,0]<10:\n",
    "        a1=np.array([0,0,0,0,0,0,0,0,0,0,0,0,0,0,0,hostceph[i,1],0,0,0,0,0,0,0,0,0,0,0,0,0,0,0,0,0,0,0,0,1,0,0,0,0,0,0,0,0,1,math.log(hostceph[i,0],10)-1,0,hostceph[i,4]-8.824,0,0])\n",
    "    elif hostceph[i,0]>10:\n",
    "        a1=np.array([0,0,0,0,0,0,0,0,0,0,0,0,0,0,0,hostceph[i,1],0,0,0,0,0,0,0,0,0,0,0,0,0,0,0,0,0,0,0,0,1,0,0,0,0,0,0,0,0,1,0,math.log(hostceph[i,0],10)-1,hostceph[i,4]-8.824,0,0])\n",
    "    i+=1\n",
    "    a=np.vstack((a,a1))\n"
   ]
  },
  {
   "cell_type": "code",
   "execution_count": 23,
   "metadata": {},
   "outputs": [],
   "source": [
    "for i in range(804,829):\n",
    "    if hostceph[i,0]<10:\n",
    "        a1=np.array([0,0,0,0,0,0,0,0,0,0,0,0,0,0,0,0,hostceph[i,1],0,0,0,0,0,0,0,0,0,0,0,0,0,0,0,0,0,0,0,0,1,0,0,0,0,0,0,0,1,math.log(hostceph[i,0],10)-1,0,hostceph[i,4]-8.824,0,0])\n",
    "    elif hostceph[i,0]>10:\n",
    "        a1=np.array([0,0,0,0,0,0,0,0,0,0,0,0,0,0,0,0,hostceph[i,1],0,0,0,0,0,0,0,0,0,0,0,0,0,0,0,0,0,0,0,0,1,0,0,0,0,0,0,0,1,0,math.log(hostceph[i,0],10)-1,hostceph[i,4]-8.824,0,0])\n",
    "    i+=1\n",
    "    a=np.vstack((a,a1))\n"
   ]
  },
  {
   "cell_type": "code",
   "execution_count": 24,
   "metadata": {},
   "outputs": [],
   "source": [
    "for i in range(829,912):\n",
    "    if hostceph[i,0]<10:\n",
    "        a1=np.array([0,0,0,0,0,0,0,0,0,0,0,0,0,0,0,0,0,hostceph[i,1],0,0,0,0,0,0,0,0,0,0,0,0,0,0,0,0,0,0,0,0,1,0,0,0,0,0,0,1,math.log(hostceph[i,0],10)-1,0,hostceph[i,4]-8.824,0,0])\n",
    "    elif hostceph[i,0]>10:\n",
    "        a1=np.array([0,0,0,0,0,0,0,0,0,0,0,0,0,0,0,0,0,hostceph[i,1],0,0,0,0,0,0,0,0,0,0,0,0,0,0,0,0,0,0,0,0,1,0,0,0,0,0,0,1,math.log(hostceph[i,0],10)-1,0,hostceph[i,4]-8.824,0,0])\n",
    "    i+=1\n",
    "    a=np.vstack((a,a1))\n"
   ]
  },
  {
   "cell_type": "code",
   "execution_count": 25,
   "metadata": {},
   "outputs": [],
   "source": [
    "for i in range(912,925):\n",
    "    if hostceph[i,0]<10:\n",
    "        a1=np.array([0,0,0,0,0,0,0,0,0,0,0,0,0,0,0,0,0,0,hostceph[i,1],0,0,0,0,0,0,0,0,0,0,0,0,0,0,0,0,0,0,0,0,1,0,0,0,0,0,1,math.log(hostceph[i,0],10)-1,0,hostceph[i,4]-8.824,0,0])\n",
    "    elif hostceph[i,0]>10:\n",
    "        a1=np.array([0,0,0,0,0,0,0,0,0,0,0,0,0,0,0,0,0,0,hostceph[i,1],0,0,0,0,0,0,0,0,0,0,0,0,0,0,0,0,0,0,0,0,1,0,0,0,0,0,1,0,math.log(hostceph[i,0],10)-1,hostceph[i,4]-8.824,0,0])\n",
    "    i+=1\n",
    "    a=np.vstack((a,a1))\n"
   ]
  },
  {
   "cell_type": "code",
   "execution_count": 26,
   "metadata": {},
   "outputs": [],
   "source": [
    "for i in range(925,947):\n",
    "    if hostceph[i,0]<10:\n",
    "        a1=np.array([0,0,0,0,0,0,0,0,0,0,0,0,0,0,0,0,0,0,0,hostceph[i,1],0,0,0,0,0,0,0,0,0,0,0,0,0,0,0,0,0,0,0,0,1,0,0,0,0,1,math.log(hostceph[i,0],10)-1,0,hostceph[i,4]-8.824,0,0])\n",
    "    elif hostceph[i,0]>10:\n",
    "        a1=np.array([0,0,0,0,0,0,0,0,0,0,0,0,0,0,0,0,0,0,0,hostceph[i,1],0,0,0,0,0,0,0,0,0,0,0,0,0,0,0,0,0,0,0,0,1,0,0,0,0,1,0,math.log(hostceph[i,0],10)-1,hostceph[i,4]-8.824,0,0])\n",
    "    i+=1\n",
    "    a=np.vstack((a,a1))\n",
    "\n"
   ]
  },
  {
   "cell_type": "code",
   "execution_count": 27,
   "metadata": {},
   "outputs": [],
   "source": [
    "for i in range(947,975):\n",
    "    if hostceph[i,0]<10:\n",
    "        a1=np.array([0,0,0,0,0,0,0,0,0,0,0,0,0,0,0,0,0,0,0,0,hostceph[i,1],0,0,0,0,0,0,0,0,0,0,0,0,0,0,0,0,0,0,0,0,1,0,0,0,1,math.log(hostceph[i,0],10)-1,0,hostceph[i,4]-8.824,0,0])\n",
    "    elif hostceph[i,0]>10:\n",
    "        a1=np.array([0,0,0,0,0,0,0,0,0,0,0,0,0,0,0,0,0,0,0,0,hostceph[i,1],0,0,0,0,0,0,0,0,0,0,0,0,0,0,0,0,0,0,0,0,1,0,0,0,1,0,math.log(hostceph[i,0],10)-1,hostceph[i,4]-8.824,0,0])\n",
    "    i+=1\n",
    "    a=np.vstack((a,a1))\n"
   ]
  },
  {
   "cell_type": "code",
   "execution_count": 28,
   "metadata": {},
   "outputs": [],
   "source": [
    "for i in range(975,1114):\n",
    "    if hostceph[i,0]<10:\n",
    "        a1=np.array([0,0,0,0,0,0,0,0,0,0,0,0,0,0,0,0,0,0,0,0,0,hostceph[i,1],0,0,0,0,0,0,0,0,0,0,0,0,0,0,0,0,0,0,0,0,1,0,0,1,math.log(hostceph[i,0],10)-1,0,hostceph[i,4]-8.824,0,0])\n",
    "    elif hostceph[i,0]>10:\n",
    "        a1=np.array([0,0,0,0,0,0,0,0,0,0,0,0,0,0,0,0,0,0,0,0,0,hostceph[i,1],0,0,0,0,0,0,0,0,0,0,0,0,0,0,0,0,0,0,0,0,1,0,0,1,0,math.log(hostceph[i,0],10)-1,hostceph[i,4]-8.824,0,0])\n",
    "    i+=1\n",
    "    a=np.vstack((a,a1))\n"
   ]
  },
  {
   "cell_type": "code",
   "execution_count": 29,
   "metadata": {},
   "outputs": [],
   "source": [
    "for i in range(1114,1486):\n",
    "    if hostceph[i,0]<10:\n",
    "        a1=np.array([0,0,0,0,0,0,0,0,0,0,0,0,0,0,0,0,0,0,0,0,0,0,hostceph[i,1],0,0,0,0,0,0,0,0,0,0,0,0,0,0,0,0,0,0,0,0,1,0,1,math.log(hostceph[i,0],10)-1,0,hostceph[i,4]-8.824,0,0])\n",
    "    elif hostceph[i,0]>10:\n",
    "        a1=np.array([0,0,0,0,0,0,0,0,0,0,0,0,0,0,0,0,0,0,0,0,0,0,hostceph[i,1],0,0,0,0,0,0,0,0,0,0,0,0,0,0,0,0,0,0,0,0,1,0,1,0,math.log(hostceph[i,0],10)-1,hostceph[i,4]-8.824,0,0])\n",
    "    i+=1\n",
    "    a=np.vstack((a,a1))"
   ]
  },
  {
   "cell_type": "code",
   "execution_count": 30,
   "metadata": {},
   "outputs": [],
   "source": [
    "for i in range(70):\n",
    "    if lmcceph[i,0]<1:\n",
    "        a1=np.array([lmcceph[i,1]-lmcceph[i,3],0,0,0,0,0,0,0,0,0,0,0,0,0,0,0,0,0,0,0,0,0,0,0,0,0,0,0,0,0,0,0,0,0,0,0,0,0,0,0,0,0,0,0,1,1,lmcceph[i,0]-1,0,-0.3,0,0])\n",
    "    elif lmcceph[i,0]>1:\n",
    "        a1=np.array([lmcceph[i,1]-lmcceph[i,3],0,0,0,0,0,0,0,0,0,0,0,0,0,0,0,0,0,0,0,0,0,0,0,0,0,0,0,0,0,0,0,0,0,0,0,0,0,0,0,0,0,0,0,1,1,0,lmcceph[i,0]-1,-0.3,0,0])\n",
    "    i+=1\n",
    "    a=np.vstack((a,a1))\n"
   ]
  },
  {
   "cell_type": "code",
   "execution_count": 31,
   "metadata": {},
   "outputs": [],
   "source": [
    "a2=np.array([0, 0, 0, 0, 0, 0, 0, 0, 0, 0, 0, 0, 0, 0, 0, 0, 0,0, 0, 0, 0, 0, 0, 0, 0, 0, 0, 0, 0, 0, 0, 0, 0, 0,0,0,0,0,0,0,\n",
    "       0, 0, 1, 0,0, 0, 0, 0, 0, 0, 0])\n",
    "\n",
    "a4=np.array([0, 0, 0, 0, 0, 0, 0, 0, 0, 0, 0, 0, 0, 0, 0, 0, 0,0, 0, 0, 0, 0, 0, 0, 0, 0, 0, 0, 0, 0, 0, 0, 0, 0,0,0,0,0,0,0,\n",
    "       0, 0, 0, 0,1, 0, 0, 0, 0, 0, 0])\n",
    "a=np.vstack((a,a2,a4))\n"
   ]
  },
  {
   "cell_type": "code",
   "execution_count": 32,
   "metadata": {},
   "outputs": [],
   "source": [
    "a4=np.array([0,0,0,0,0,0,0,0,0,0,0,0,0,0,0,0,0,0,0,0,0,0,0,1, 0, 0, 0, 0, 0, 0, 0, 0, 0, 0, 0, 0, 0, 0, 0, 0,\n",
    "       0, 0, 0, 0, 0, 0, 0, 0, 0,0, 1])\n",
    "a=np.vstack((a,a4))\n",
    "a4=np.array([0,0,0,0,0,0,0,0,0,0,0,0,0,0,0,0,0,0,0,0,0,0,0,0, 1, 0, 0, 0, 0, 0, 0, 0, 0, 0, 0, 0, 0, 0, 0, 0,\n",
    "       0, 0, 0, 0, 0, 0, 0, 0, 0,0, 1])\n",
    "a=np.vstack((a,a4))\n",
    "a4=np.array([0,0,0,0,0,0,0,0,0,0,0,0,0,0,0,0,0,0,0,0,0,0,0, 0, 0,1, 0, 0, 0, 0, 0, 0, 0, 0, 0, 0, 0, 0, 0, 0,\n",
    "       0, 0, 0, 0, 0, 0, 0, 0, 0,0, 1]),\n",
    "a=np.vstack((a,a4))\n",
    "a4=np.array([0,0,0,0,0,0,0,0,0,0,0,0,0,0,0,0,0,0,0,0,0,0,0,0,0,0, 1, 0, 0, 0, 0, 0, 0, 0, 0, 0, 0, 0, 0, 0,\n",
    "       0, 0, 0, 0, 0, 0, 0, 0, 0,0, 1])\n",
    "a=np.vstack((a,a4))\n",
    "a4=np.array([0,0,0,0,0,0,0,0,0,0,0,0,0,0,0,0,0,0,0,0,0,0,0,0, 0, 0, 0, 1, 0, 0, 0, 0, 0, 0, 0, 0, 0, 0, 0, 0,\n",
    "       0, 0, 0, 0, 0, 0, 0, 0, 0,0, 1])\n",
    "a=np.vstack((a,a4))\n",
    "a4=np.array([0,0,0,0,0,0,0,0,0,0,0,0,0,0,0,0,0,0,0,0,0,0,0,0, 0, 0, 0, 0, 1, 0, 0, 0, 0, 0, 0, 0, 0, 0, 0, 0,\n",
    "       0, 0, 0, 0, 0, 0, 0, 0, 0,0, 1])\n",
    "a=np.vstack((a,a4))\n",
    "a4=np.array([0,0,0,0,0,0,0,0,0,0,0,0,0,0,0,0,0,0,0,0,0,0,0,0, 0, 0, 0, 0, 0, 1, 0, 0, 0, 0, 0, 0, 0, 0, 0, 0,\n",
    "       0, 0, 0, 0, 0, 0, 0, 0, 0,0, 1])\n",
    "a=np.vstack((a,a4))\n",
    "a4=np.array([0, 0,0,0,0,0,0,0,0,0,0,0,0,0,0,0,0,0,0,0,0,0,0,0,0, 0, 0, 0, 0, 0, 1, 0, 0, 0, 0, 0, 0, 0, 0, 0,\n",
    "       0, 0, 0, 0, 0, 0, 0, 0, 0,0, 1])\n",
    "a=np.vstack((a,a4))\n",
    "\n",
    "a4=np.array([0,0,0,0,0,0,0,0,0,0,0,0,0,0,0,0,0,0,0,0,0,0,0,0, 0, 0, 0, 0, 0, 0, 0, 1, 0, 0, 0, 0, 0, 0, 0, 0,\n",
    "       0, 0, 0, 0, 0, 0, 0, 0, 0,0, 1])\n",
    "a=np.vstack((a,a4))\n",
    "\n",
    "a4=np.array([0, 0,0,0,0,0,0,0,0,0,0,0,0,0,0,0,0,0,0,0,0,0,0,0,0, 0, 0, 0, 0, 0, 0, 0, 1, 0, 0, 0, 0, 0, 0, 0,\n",
    "       0, 0, 0, 0, 0, 0, 0, 0, 0,0, 1])\n",
    "a=np.vstack((a,a4))\n",
    "\n",
    "a4=np.array([0,0,0,0,0,0,0,0,0,0,0,0,0,0,0,0,0,0,0,0,0,0,0,0, 0, 0, 0, 0, 0, 0, 0, 0, 0, 1, 0, 0, 0, 0, 0, 0,\n",
    "       0, 0, 0, 0, 0, 0, 0, 0, 0,0, 1])\n",
    "a=np.vstack((a,a4))\n",
    "\n",
    "a4=np.array([0,0,0,0,0,0,0,0,0,0,0,0,0,0,0,0,0,0,0,0,0,0,0,0, 0, 0, 0, 0, 0, 0, 0, 0, 0, 0, 1, 0, 0, 0, 0, 0,\n",
    "       0, 0, 0, 0, 0, 0, 0, 0, 0,0, 1])\n",
    "a=np.vstack((a,a4))\n",
    "\n",
    "a4=np.array([0, 0,0,0,0,0,0,0,0,0,0,0,0,0,0,0,0,0,0,0,0,0,0,0,0, 0, 0, 0, 0, 0, 0, 0, 0, 0, 0, 1, 0, 0, 0, 0,\n",
    "       0, 0, 0, 0, 0, 0, 0, 0, 0,0, 1])\n",
    "a=np.vstack((a,a4))\n",
    "\n",
    "a4=np.array([0,0,0,0,0,0,0,0,0,0,0,0,0,0,0,0,0,0,0,0,0,0,0,0, 0, 0, 0, 0, 0, 0, 0, 0, 0, 0, 0, 0, 1, 0, 0, 0,\n",
    "       0, 0, 0, 0, 0, 0, 0, 0, 0,0, 1])\n",
    "a=np.vstack((a,a4))\n",
    "\n",
    "a4=np.array([0,0,0,0,0,0,0,0,0,0,0,0,0,0,0,0,0,0,0,0,0,0,0,0, 0, 0, 0, 0, 0, 0, 0, 0, 0, 0, 0, 0, 0, 1, 0, 0,\n",
    "       0, 0, 0, 0, 0, 0, 0, 0, 0,0, 1])\n",
    "a=np.vstack((a,a4))\n",
    "\n",
    "a4=np.array([0,0,0,0,0,0,0,0,0,0,0,0,0,0,0,0,0,0,0,0,0,0,0,0, 0, 0, 0, 0, 0, 0, 0, 0, 0, 0, 0, 0, 0, 0, 1, 0,\n",
    "       0, 0, 0, 0, 0, 0, 0, 0, 0,0, 1])\n",
    "a=np.vstack((a,a4))\n",
    "\n",
    "a4=np.array([0,0,0,0,0,0,0,0,0,0,0,0,0,0,0,0,0,0,0,0,0,0,0,0, 0, 0, 0, 0, 0, 0, 0, 0, 0, 0, 0, 0, 0, 0, 0, 1,\n",
    "       0, 0, 0, 0, 0, 0, 0, 0, 0,0, 1])\n",
    "a=np.vstack((a,a4))\n",
    "\n",
    "a4=np.array([0,0,0,0,0,0,0,0,0,0,0,0,0,0,0,0,0,0,0,0,0,0,0,0, 0, 0, 0, 0, 0, 0, 0, 0, 0, 0, 0, 0, 0, 0, 0, 0,\n",
    "       1, 0, 0, 0, 0, 0, 0, 0, 0,0, 1])\n",
    "a=np.vstack((a,a4))\n",
    "\n",
    "a4=np.array([0,0,0,0,0,0,0,0,0,0,0,0,0,0,0,0,0,0,0,0,0,0,0,0, 0, 0, 0, 0, 0, 0, 0, 0, 0, 0, 0, 0, 0, 0, 0, 0,\n",
    "       0, 1, 0, 0, 0, 0, 0, 0, 0,0, 1])\n",
    "a=np.vstack((a,a4))\n",
    "\n",
    "\n"
   ]
  },
  {
   "cell_type": "code",
   "execution_count": 33,
   "metadata": {},
   "outputs": [],
   "source": [
    "#np.savetxt('a0.txt',a)\n",
    "#np.savetxt('y0.txt',Y)\n"
   ]
  },
  {
   "cell_type": "code",
   "execution_count": 34,
   "metadata": {},
   "outputs": [
    {
     "data": {
      "text/plain": [
       "array([0.0052507 , 0.00458237, 0.00400488, 0.00451906, 0.00529096,\n",
       "       0.00431799, 0.00396618, 0.00536913, 0.00376963, 0.00611259,\n",
       "       0.00410315, 0.00469499, 0.00542071, 0.00615327, 0.00362998,\n",
       "       0.00477887, 0.00431756, 0.00473177, 0.00543777, 0.00458567,\n",
       "       0.00392185, 0.00494587, 0.00418436, 0.00395138, 0.00416986,\n",
       "       0.00540151, 0.00439078, 0.00667057, 0.0048724 , 0.00400722,\n",
       "       0.00491649, 0.00532885, 0.00423349, 0.00541889, 0.00429064,\n",
       "       0.0045616 , 0.00368454, 0.00378912, 0.00501202, 0.00445049,\n",
       "       0.00381843, 0.00703311, 0.0043212 , 0.00525903, 0.00352782,\n",
       "       0.00397761, 0.00406603, 0.00481045, 0.00477885, 0.00559133,\n",
       "       0.00563617, 0.00563984, 0.00551272, 0.00462948, 0.00536981,\n",
       "       0.00550979, 0.00476263, 0.00475404, 0.00466079, 0.00580854,\n",
       "       0.00553405, 0.00615473, 0.00550427, 0.00475748, 0.00454526,\n",
       "       0.0056856 , 0.00571562, 0.0056462 , 0.00478668, 0.00551465,\n",
       "       0.00570685, 0.00554117, 0.00467886, 0.00661921])"
      ]
     },
     "execution_count": 34,
     "metadata": {},
     "output_type": "execute_result"
    }
   ],
   "source": [
    "error1=np.genfromtxt('datamw_cep2.txt')\n",
    "e1=error1[:,6]+0.006\n",
    "e2=(5/ln10)*error1[:,11]/error1[:,10]\n",
    "e3=0.39*error1[:,2]\n",
    "e4=0.39*error1[:,4]\n",
    "error1=e1**2+e2**2+e3**2+e4**2\n",
    "#error1=e1**2+e2**2\n",
    "error1"
   ]
  },
  {
   "cell_type": "code",
   "execution_count": 35,
   "metadata": {},
   "outputs": [],
   "source": [
    "error2=np.genfromtxt('r16 table4.txt')\n",
    "error2=error2[0:1486,3]\n",
    "error2=error2**2"
   ]
  },
  {
   "cell_type": "code",
   "execution_count": 36,
   "metadata": {},
   "outputs": [
    {
     "data": {
      "text/plain": [
       "array([0.00830165, 0.00852052, 0.0110313 , 0.00822002, 0.00881435,\n",
       "       0.00848721, 0.01036887, 0.00935631, 0.00913822, 0.00836064,\n",
       "       0.01042196, 0.00864931, 0.00967942, 0.0086528 , 0.00924611,\n",
       "       0.01078064, 0.00836672, 0.01095668, 0.00873761, 0.00925402,\n",
       "       0.00873153, 0.00864611, 0.00983731, 0.00934672, 0.00904511,\n",
       "       0.00854642, 0.00846911, 0.00866512, 0.00822134, 0.00874163,\n",
       "       0.00915161, 0.00947322, 0.00866163, 0.00845861, 0.01122001,\n",
       "       0.01586634, 0.00863364, 0.00845572, 0.00847367, 0.00884922,\n",
       "       0.01235105, 0.01236261, 0.0089438 , 0.00946531, 0.00828931,\n",
       "       0.00893361, 0.00945253, 0.00937593, 0.00902853, 0.00874081,\n",
       "       0.00947261, 0.00865402, 0.00884131, 0.00830634, 0.00866817,\n",
       "       0.00978605, 0.00971486, 0.01000587, 0.00893042, 0.00919313,\n",
       "       0.00840566, 0.00914491, 0.0093103 , 0.00901757, 0.00926893,\n",
       "       0.00870878, 0.00834102, 0.00883461, 0.00888009, 0.01028431])"
      ]
     },
     "execution_count": 36,
     "metadata": {},
     "output_type": "execute_result"
    }
   ],
   "source": [
    "error4=np.genfromtxt('r19 table2.txt')\n",
    "e5=error4[:,6]+0.024\n",
    "e6=0.39*error4[:,2]\n",
    "e7=0.39*error4[:,4]\n",
    "error4=e5**2+0.08**2+e6**2+e7**2\n",
    "#error4=e5**2\n",
    "error4"
   ]
  },
  {
   "cell_type": "code",
   "execution_count": 37,
   "metadata": {},
   "outputs": [
    {
     "data": {
      "text/plain": [
       "array([0.001024  , 0.00069169])"
      ]
     },
     "execution_count": 37,
     "metadata": {},
     "output_type": "execute_result"
    }
   ],
   "source": [
    "error5=np.array([0.032,0.0263])\n",
    "error5=error5**2\n",
    "error5"
   ]
  },
  {
   "cell_type": "code",
   "execution_count": 38,
   "metadata": {},
   "outputs": [
    {
     "data": {
      "text/plain": [
       "array([0.013689, 0.015129, 0.013456, 0.015625, 0.013456, 0.020164,\n",
       "       0.013689, 0.013225, 0.015376, 0.013456, 0.013225, 0.012996,\n",
       "       0.011881, 0.015376, 0.013225, 0.013225, 0.013225, 0.013225,\n",
       "       0.012996])"
      ]
     },
     "execution_count": 38,
     "metadata": {},
     "output_type": "execute_result"
    }
   ],
   "source": [
    "error6=np.genfromtxt('r16 table5.txt')\n",
    "error6=(error6[:,1])**2\n",
    "error6"
   ]
  },
  {
   "cell_type": "code",
   "execution_count": 39,
   "metadata": {},
   "outputs": [
    {
     "name": "stdout",
     "output_type": "stream",
     "text": [
      "[0.0052507  0.00458237 0.00400488 ... 0.013225   0.013225   0.012996  ]\n"
     ]
    },
    {
     "data": {
      "text/plain": [
       "1651"
      ]
     },
     "execution_count": 39,
     "metadata": {},
     "output_type": "execute_result"
    }
   ],
   "source": [
    "error=np.hstack((error1,error2,error4,error5,error6))\n",
    "print(error)\n",
    "error.size"
   ]
  },
  {
   "cell_type": "code",
   "execution_count": 40,
   "metadata": {},
   "outputs": [
    {
     "data": {
      "text/plain": [
       "array([[0.0052507 , 0.        , 0.        , ..., 0.        , 0.        ,\n",
       "        0.        ],\n",
       "       [0.        , 0.00458237, 0.        , ..., 0.        , 0.        ,\n",
       "        0.        ],\n",
       "       [0.        , 0.        , 0.00400488, ..., 0.        , 0.        ,\n",
       "        0.        ],\n",
       "       ...,\n",
       "       [0.        , 0.        , 0.        , ..., 0.013225  , 0.        ,\n",
       "        0.        ],\n",
       "       [0.        , 0.        , 0.        , ..., 0.        , 0.013225  ,\n",
       "        0.        ],\n",
       "       [0.        , 0.        , 0.        , ..., 0.        , 0.        ,\n",
       "        0.012996  ]])"
      ]
     },
     "execution_count": 40,
     "metadata": {},
     "output_type": "execute_result"
    }
   ],
   "source": [
    "\n",
    "errorc=np.diag(error)\n",
    "\n",
    "errorc"
   ]
  },
  {
   "cell_type": "code",
   "execution_count": 41,
   "metadata": {},
   "outputs": [],
   "source": [
    "#np.savetxt('error0.txt',errorc)"
   ]
  },
  {
   "cell_type": "code",
   "execution_count": 42,
   "metadata": {},
   "outputs": [
    {
     "data": {
      "text/plain": [
       "array([ 4.71318637e-01,  3.75217149e-01,  4.91248136e-01,  5.05013715e-02,\n",
       "        2.13079723e-01,  3.20020496e-01,  1.78357721e-01,  2.30484320e-01,\n",
       "        4.70183413e-01,  5.49064543e-02,  9.42823691e-02,  1.00328205e-01,\n",
       "        3.97799516e-01,  1.01874908e-01,  4.10915530e-01,  2.19109146e-01,\n",
       "        1.46233721e-01,  1.41693959e-01,  1.88192288e-01,  2.07949571e-01,\n",
       "        3.27155931e-01,  3.23028545e-01,  2.75334057e-01,  2.90329572e+01,\n",
       "        3.28830801e+01,  3.26850565e+01,  3.13534680e+01,  3.15112812e+01,\n",
       "        3.17454918e+01,  3.23954319e+01,  3.24223869e+01,  3.21800022e+01,\n",
       "        3.19259382e+01,  3.16858501e+01,  3.16448012e+01,  3.09839717e+01,\n",
       "        3.10676282e+01,  3.17762374e+01,  3.21044876e+01,  3.24567684e+01,\n",
       "        3.17128883e+01,  3.29424622e+01,  2.93963848e+01,  2.45806431e+01,\n",
       "        1.84669059e+01, -5.95357853e+00, -3.27474914e+00, -3.17014336e+00,\n",
       "       -1.82294173e-01, -6.78023999e-04, -1.94278173e+01])"
      ]
     },
     "execution_count": 42,
     "metadata": {},
     "output_type": "execute_result"
    }
   ],
   "source": [
    "x=np.linalg.inv((np.transpose(a))@(np.linalg.inv(errorc))@a)@((np.transpose(a))@(np.linalg.inv(errorc))@Y)\n",
    "x"
   ]
  },
  {
   "cell_type": "code",
   "execution_count": 43,
   "metadata": {},
   "outputs": [],
   "source": [
    "aT=np.transpose(a)"
   ]
  },
  {
   "cell_type": "code",
   "execution_count": 44,
   "metadata": {},
   "outputs": [],
   "source": [
    "errorinv=np.linalg.inv(errorc)"
   ]
  },
  {
   "cell_type": "code",
   "execution_count": 45,
   "metadata": {
    "scrolled": true
   },
   "outputs": [
    {
     "data": {
      "text/plain": [
       "array([ 4.71318637e-01,  3.75217149e-01,  4.91248136e-01,  5.05013715e-02,\n",
       "        2.13079723e-01,  3.20020496e-01,  1.78357721e-01,  2.30484320e-01,\n",
       "        4.70183413e-01,  5.49064543e-02,  9.42823691e-02,  1.00328205e-01,\n",
       "        3.97799516e-01,  1.01874908e-01,  4.10915530e-01,  2.19109146e-01,\n",
       "        1.46233721e-01,  1.41693959e-01,  1.88192288e-01,  2.07949571e-01,\n",
       "        3.27155931e-01,  3.23028545e-01,  2.75334057e-01,  2.90329572e+01,\n",
       "        3.28830801e+01,  3.26850565e+01,  3.13534680e+01,  3.15112812e+01,\n",
       "        3.17454918e+01,  3.23954319e+01,  3.24223869e+01,  3.21800022e+01,\n",
       "        3.19259382e+01,  3.16858501e+01,  3.16448012e+01,  3.09839717e+01,\n",
       "        3.10676282e+01,  3.17762374e+01,  3.21044876e+01,  3.24567684e+01,\n",
       "        3.17128883e+01,  3.29424622e+01,  2.93963848e+01,  2.45806431e+01,\n",
       "        1.84669059e+01, -5.95357853e+00, -3.27474914e+00, -3.17014336e+00,\n",
       "       -1.82294173e-01, -6.78023999e-04, -1.94278173e+01])"
      ]
     },
     "execution_count": 45,
     "metadata": {},
     "output_type": "execute_result"
    }
   ],
   "source": [
    "result=(np.linalg.inv(aT@(errorinv@a)))@(aT@(errorinv@Y))\n",
    "result"
   ]
  },
  {
   "cell_type": "code",
   "execution_count": 46,
   "metadata": {
    "scrolled": true
   },
   "outputs": [
    {
     "name": "stdout",
     "output_type": "stream",
     "text": [
      "67.16863802963205\n"
     ]
    }
   ],
   "source": [
    "# estimate H0\n",
    "H0=10**((result[50]+0.71273*5+25)/5)\n",
    "print(H0)"
   ]
  },
  {
   "cell_type": "code",
   "execution_count": 47,
   "metadata": {},
   "outputs": [
    {
     "data": {
      "text/plain": [
       "1565.6001657907564"
      ]
     },
     "execution_count": 47,
     "metadata": {},
     "output_type": "execute_result"
    }
   ],
   "source": [
    "chi2=(Y-a@result)@errorinv@(Y-a@result)\n",
    "chi2"
   ]
  },
  {
   "cell_type": "code",
   "execution_count": 48,
   "metadata": {},
   "outputs": [
    {
     "data": {
      "text/plain": [
       "1667.6001657907564"
      ]
     },
     "execution_count": 48,
     "metadata": {},
     "output_type": "execute_result"
    }
   ],
   "source": [
    "AIC=chi2+102\n",
    "AIC"
   ]
  },
  {
   "cell_type": "code",
   "execution_count": 49,
   "metadata": {},
   "outputs": [
    {
     "data": {
      "text/plain": [
       "1943.4661244306828"
      ]
     },
     "execution_count": 49,
     "metadata": {},
     "output_type": "execute_result"
    }
   ],
   "source": [
    "BIC=chi2+51*np.log(1651)\n",
    "BIC"
   ]
  },
  {
   "cell_type": "code",
   "execution_count": null,
   "metadata": {},
   "outputs": [],
   "source": []
  }
 ],
 "metadata": {
  "kernelspec": {
   "display_name": "Python 3 (ipykernel)",
   "language": "python",
   "name": "python3"
  },
  "language_info": {
   "codemirror_mode": {
    "name": "ipython",
    "version": 3
   },
   "file_extension": ".py",
   "mimetype": "text/x-python",
   "name": "python",
   "nbconvert_exporter": "python",
   "pygments_lexer": "ipython3",
   "version": "3.8.18"
  }
 },
 "nbformat": 4,
 "nbformat_minor": 4
}
